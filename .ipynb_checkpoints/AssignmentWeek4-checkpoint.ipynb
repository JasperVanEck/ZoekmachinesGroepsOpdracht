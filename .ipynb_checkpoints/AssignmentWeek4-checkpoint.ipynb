{
 "cells": [
  {
   "cell_type": "markdown",
   "metadata": {},
   "source": [
    "# Zoekmachines"
   ]
  },
  {
   "cell_type": "markdown",
   "metadata": {},
   "source": [
    "## Notebook made by\n",
    "\n",
    "__Name__: \n",
    "\n",
    "__Student id__ : "
   ]
  },
  {
   "cell_type": "markdown",
   "metadata": {},
   "source": [
    "## Toelichting\n",
    "\n",
    "* De meeste opgaven worden automatisch nagekeken. Bij vrijwel alle opdrachten staan er een paar zichtbare tests onder de opdracht, dit is voornamelijk om te zorgen dat je de juiste type output geeft. De andere tests worden na inleveren toegevoegd aan die cell.\n",
    "\n",
    "## Voor het inleveren!\n",
    "\n",
    "* Pas niet de cellen aan, vooral niet die je niet kunt editen. Dit levert problemen op bij nakijken. Twijfel je of je per ongeluk iets hebt gewijzigd, kopieer dan bij inleveren je antwoorden naar een nieuw bestand, zodat het niet fout kan gaan.\n",
    "\n",
    "* Zorg dat de code goed runt van boven naar beneden, verifieer dat door boven in Kernel -> Restart & Run All uit te voeren"
   ]
  },
  {
   "cell_type": "markdown",
   "metadata": {
    "toc": true
   },
   "source": [
    "<h1>Table of Contents<span class=\"tocSkip\"></span></h1>\n",
    "<div class=\"toc\"><ul class=\"toc-item\"><li><span><a href=\"#Group-Assignment--Create-your-own-search-engine\" data-toc-modified-id=\"Group-Assignment--Create-your-own-search-engine-1\"><span class=\"toc-item-num\">1&nbsp;&nbsp;</span>Group Assignment  Create your own search engine</a></span><ul class=\"toc-item\"><li><span><a href=\"#Notebook-made-by\" data-toc-modified-id=\"Notebook-made-by-1.1\"><span class=\"toc-item-num\">1.1&nbsp;&nbsp;</span>Notebook made by</a></span></li></ul></li><li><span><a href=\"#Assignment\" data-toc-modified-id=\"Assignment-2\"><span class=\"toc-item-num\">2&nbsp;&nbsp;</span>Assignment</a></span><ul class=\"toc-item\"><li><ul class=\"toc-item\"><li><span><a href=\"#Standard-option\" data-toc-modified-id=\"Standard-option-2.0.1\"><span class=\"toc-item-num\">2.0.1&nbsp;&nbsp;</span>Standard option</a></span></li><li><span><a href=\"#Other-options\" data-toc-modified-id=\"Other-options-2.0.2\"><span class=\"toc-item-num\">2.0.2&nbsp;&nbsp;</span>Other options</a></span></li></ul></li><li><span><a href=\"#Requirements\" data-toc-modified-id=\"Requirements-2.1\"><span class=\"toc-item-num\">2.1&nbsp;&nbsp;</span>Requirements</a></span></li><li><span><a href=\"#Presentation\" data-toc-modified-id=\"Presentation-2.2\"><span class=\"toc-item-num\">2.2&nbsp;&nbsp;</span>Presentation</a></span></li><li><span><a href=\"#How-you-will-be-marked\" data-toc-modified-id=\"How-you-will-be-marked-2.3\"><span class=\"toc-item-num\">2.3&nbsp;&nbsp;</span>How you will be marked</a></span></li><li><span><a href=\"#How-your-grade-is-computed?\" data-toc-modified-id=\"How-your-grade-is-computed?-2.4\"><span class=\"toc-item-num\">2.4&nbsp;&nbsp;</span>How your grade is computed?</a></span></li></ul></li></ul></div>"
   ]
  },
  {
   "cell_type": "markdown",
   "metadata": {},
   "source": [
    "# Group Assignment  Create your own search engine\n",
    "\n",
    "* Get acquainted with <a href='http://www.elasticsearch.org/guide/en/elasticsearch/guide/current/index.html'>ElasticSearch</a> \n",
    "using this <a href='http://nbviewer.ipython.org/url/maartenmarx.nl/teaching/zoekmachines//NoteBooks/ElasticSearch.ipynb'>Notebook with first Elastic Search steps plus the python API</a>.\n",
    "* We especially recommend to start making a baby search engine using the Ted talk dataset and using IPyton widgets.\n",
    "    * [This blogpost](https://towardsdatascience.com/interactive-controls-for-jupyter-notebooks-f5c94829aee6) is a good introduction to these widgets.\n",
    "    * Using widgets you **never** have to leave the notebook, and do not have to bother with HTML, http, servers, etc. But still you have a great looking interactive demo site. "
   ]
  },
  {
   "cell_type": "markdown",
   "metadata": {},
   "source": [
    "## Notebook made by  \n",
    "\n",
    "__Name(s)__: \n",
    "\n",
    "__Student id(s)__ : \n",
    "\n",
    " "
   ]
  },
  {
   "cell_type": "markdown",
   "metadata": {},
   "source": [
    "# Assignment \n",
    "\n",
    "\n",
    "### Standard option\n",
    "Create a search engine in ElasticSearch for one of the collections listed below:\n",
    "\n",
    "\n",
    " \n",
    "\n",
    "* Wikipedia: dumps are available at <https://dumps.wikimedia.org/nlwiki/latest/> You should get the file <https://dumps.wikimedia.org/nlwiki/latest/nlwiki-latest-pages-articles.xml.bz2> (everything) or a smaller part to start with, e.g., <https://dumps.wikimedia.org/nlwiki/latest/nlwiki-latest-pages-articles1.xml.bz2>\n",
    "* A Kaggle dataset.\n",
    "    * Last year we had Ted Talks, Stackoverflow R questions, lyrics, airbnb, **so these are boring**\n",
    "        * Ted Talks is of course only for playing and getting started\n",
    "    * **Maximally 2 groups can use the same dataset. You organize this yourself.**\n",
    "    * You **must** connect at least two separate datafiles/datasets, and \"join\" these in your elastic search index.\n",
    "        * E.g. the questions and best answer in the stackoverflow set, joined with the tags of the questions. \n",
    "        * Or, a dataset about lyrics witha  wikipedia link to the artist. Then you add the text from those wikipedia pages. \n",
    "* the _kamervragen_ collection is also used before: <http://maartenmarx.nl/teaching/zoekmachines/Data/> (  so make your assignment extra exciting)\n",
    "* \n",
    "<!-- \n",
    "* Enron email dataset: see e.g. <https://www.cs.cmu.edu/~./enron/>\n",
    "* 400K questions and 1.4M answers from goeievraag.nl: <http://maartenmarx.nl/teaching/zoekmachines/Data/goeievraag.zip>\n",
    "* ~~[Hillary Clinton Email collection](https://archive.org/details/hillary-clinton-emails-august-31-release) See also our <http://maartenmarx.nl/teaching/zoekmachines/Data/> folder.~~\n",
    "* [part of ArchivX](http://www.cs.cornell.edu/projects/kddcup/datasets.html) Scientific articles in latex, with lots of metadata\n",
    "* the <a href=\"http://kdd.ics.uci.edu/databases/reuters21578/reuters21578.html\">Reuters newspaper collection</a>  \n",
    "-->\n",
    "             \n",
    "            \n",
    " \n",
    "   \n",
    "### Other options\n",
    "* Provided that you come up with a non trivial collection you can create a search engine using a different collection and also different software, as long as it is not done in MySQL.\n",
    "* Discuss this with the assistants.\n",
    "    * Convince us that your data set is interesting and your software solution worthwhile investigating.\n",
    "* For the presentations it is fun to see something else.\n",
    "* Usually it has a positive effect on your mark if you do something completely different ;-)\n",
    "* You should do the same requirements.\n",
    "\n"
   ]
  },
  {
   "cell_type": "markdown",
   "metadata": {
    "collapsed": true
   },
   "source": [
    "<h2>Requirements</h2>\n",
    "\n",
    "<p>You hand in one well constructed IPython notebook with a clear section for each of the following 6 points.\n",
    "    It is great if you have a running demo. Please give the link to it. Also link to the github page of your project.\n",
    "    </p>\n",
    "<p>Each of the following points <strong>must</strong> be addressed.  \n",
    "Explain what you did, and exemplify with links to screenshots/a working system.</p>\n",
    "<ol>\n",
    "<li>Search as we know it from Google. Give a result page (SERP), with links to the documents and some description of each hit.</li>\n",
    "    <li>Advanced search. Let a user be able to search in several fields, also in several fields simulteanously. Queries like \"_return articles with a title  about XXX  and which are   about YYY in the period ZZZ_\" should be possible. If you do not have timestamps in your data, then you must have some other facet(s) on which can be filtered.\n",
    "     </li>\n",
    "<li>Do one of the following: (Hint: ElasticSearch can also make wordclouds for you)\n",
    "    <ol><li>Represent the (top k) hits of a query with a wordcloud of 25-50 informative words. The wordcloud should somehow summarise what the collection has to say about the query.\n",
    "    You may think of these words as words that you could add to the query in order to improve recall (blind relevance feedback/query expansion). </li>\n",
    "        <li>Represent each document   with a word-cloud. </li></ol>\n",
    "<br/>You can use several techniques to get rid of high frequency, but meaningless words: of course IDF, but also mutual information (see 13.5.1), or of course the technique from the paper by Kaptein et al on wordclouds.\n",
    "</li>\n",
    "  <!--  <li>Group (nearly) identical documents. It is bad if two or more of the precious places of your top ten hits are occupied by near identical copies of a document.\n",
    "    Even more so if it is not relevant! So, get rid of these, by grouping them for instance. You get an idea of these duplicates if you search for \"neuken\".</li>\n",
    "    -->\n",
    "    <li>Give next to a traditional list of results, a timeline in which you indicate how many hits there are over time.  This can only be done if your \"documents\" have timestamps. See <a href='https://trends.google.nl/trends/explore?q=elasticsearch&geo=NL'>Google trends</a> for an example. This is of course, simply a histogram of the number of hits per time period. If you do not have timestamps, do something else with a fancy graphic.\n",
    "    </li>\n",
    "    <li>Provide Faceted Search next to the traditional list of results. For the \"Reuters\" collection, use the Category information as facet values. <a href='https://blog.linkedin.com/2009/12/14/linkedin-faceted-search'>See this example</a>.</li>\n",
    "    <li><strong>Evaluate your results</strong> Let 2 persons assess the relevancy of the top 10 documents for <strong>5 different queries</strong>. Compute Cohen's kappa. Determine the average precision at 10 for your system based on these 5 queries, and the two relevance assesments. \n",
    "        Also plot the P@10 (for both judges) for each query, showing differences in hard and easy queries.  \n",
    "        Describe clearly how you solved differences in judgements.\n",
    "    <br/>\n",
    "    Create your queries in the following format:\n",
    "<pre>\n",
    "&lt;topic number=\"6\"  >\n",
    "    &lt;query>kcs&lt;/query>\n",
    "    &lt;description>Find information on the Kansas City Southern railroad.\n",
    "    &lt;/description>\n",
    "\n",
    "&lt;/topic>\n",
    "\n",
    "&lt;topic number=\"16\"  >\n",
    "    &lt;query>arizona game and fish&lt;/query>\n",
    "    &lt;description>I'm looking for information about fishing and hunting\n",
    "    in Arizona.\n",
    "    &lt;/description>\n",
    "&lt;/topic>\n",
    "</pre>\n",
    "    So, both provide the actual query, and a description of the information need that was behind the query.\n",
    "    <br/>\n",
    "    Give a small set of clear guidelines for judging the results, and let your judges follow these guidelines.\n",
    "    <br/>\n",
    "    It is far more interesting to have difficult queries (both for the search engine and for the judges) than to have queries on which all ten retrieved documents are relevant.\n",
    "    So, try to create a good list of information needs.\n",
    "<br/>\n",
    "Change the ranking of your system, compute the average precision at 10 using your 5 queries, compare the results to your old system, and EXPLAIN what is going on.\n",
    "</li>\n",
    "\n",
    "</ol>\n",
    "\n",
    "<h2>Presentation</h2>\n",
    "<p>During your presentation you should have a live working search engine, that you demonstrate on the spot. Your presentation should be structured so that you will show all  requirements.\n",
    "You will be asked to show how your system works using information needs coming  from the audience.</p>\n",
    "<p>**Hint:** focus on a special aspect of your project. Everyone has done something similar, so your audience knows what was hard and what was terrible. Pick something you think will interest them.</p>\n",
    "\n",
    "\n",
    "<h2>How you will be marked</h2>\n",
    "<ul>\n",
    "    <li>Hand in a notebook on canvas</li>\n",
    "<li>It  should contain:\n",
    "    <ol>\n",
    "        <li>The group name, the names and student numbers of the project members</li>\n",
    "        <li>A link to the slides of your presentation</li>\n",
    "        <li>A link to the github page of your project, and best, a link to a live working demo.</li>\n",
    "        <li>A table of contents, with links to   each of the \"must-have\" points listed above.\n",
    "        <br/>During grading, you will receive points for each of the points. So make it crystal clear where they are adressed in your wiki. Use one page per point.</li>\n",
    "\n",
    "\n",
    "</ol>\n",
    "</li>\n",
    "<li>The section for each point should contain, all rather briefly,\n",
    "<ol>\n",
    "<li>What you did and why you choose to do it in your special way.</li>\n",
    "<li>Examples of what works, and what does not work (very well).</li>\n",
    "<li>An evaluation of the quality of your work in 3-4 sentences.</li>\n",
    "</ol></li>\n",
    "<li>Clickable links to a live working demo are <strong>highly appreciated</strong>. </li>\n",
    "</ul>\n",
    "\n",
    "\n",
    "<h2>How your grade is computed?</h2>\n",
    "You get a grade between 0 and 1 for each of the 6 points plus for the presentation. \n",
    "They are weighted as follows to arrive at your final grade.\n",
    "<pre>\n",
    "1: .1\n",
    "2: .2\n",
    "3: .2\n",
    "4: .1\n",
    "5: .1\n",
    "6: .2\n",
    "presentation : .1\n",
    "</pre>\n"
   ]
  },
  {
   "cell_type": "code",
   "execution_count": null,
   "metadata": {},
   "outputs": [],
   "source": []
  }
 ],
 "metadata": {
  "anaconda-cloud": {},
  "kernelspec": {
   "display_name": "Python 3",
   "language": "python",
   "name": "python3"
  },
  "language_info": {
   "codemirror_mode": {
    "name": "ipython",
    "version": 3
   },
   "file_extension": ".py",
   "mimetype": "text/x-python",
   "name": "python",
   "nbconvert_exporter": "python",
   "pygments_lexer": "ipython3",
   "version": "3.6.5"
  },
  "toc": {
   "nav_menu": {},
   "number_sections": true,
   "sideBar": true,
   "skip_h1_title": false,
   "title_cell": "Table of Contents",
   "title_sidebar": "Contents",
   "toc_cell": true,
   "toc_position": {},
   "toc_section_display": true,
   "toc_window_display": false
  }
 },
 "nbformat": 4,
 "nbformat_minor": 1
}
