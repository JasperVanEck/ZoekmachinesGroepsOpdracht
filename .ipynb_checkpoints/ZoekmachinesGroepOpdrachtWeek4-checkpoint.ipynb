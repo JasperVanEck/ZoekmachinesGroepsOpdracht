{
 "cells": [
  {
   "cell_type": "markdown",
   "metadata": {},
   "source": [
    "# Groep Opdracht Week 4 Zoekmachines\n",
    "\n",
    "## Students: Jasper van Eck, Ghislaine, Joris Galema, Lotte\n",
    "## Student IDs: 6228194, -, 11335165, 11269642\n"
   ]
  },
  {
   "cell_type": "markdown",
   "metadata": {},
   "source": [
    "# Import Data"
   ]
  },
  {
   "cell_type": "code",
   "execution_count": 8,
   "metadata": {},
   "outputs": [
    {
     "name": "stdout",
     "output_type": "stream",
     "text": [
      "[nltk_data] Downloading package punkt to\n",
      "[nltk_data]     C:\\Users\\Jasper\\AppData\\Roaming\\nltk_data...\n",
      "[nltk_data]   Unzipping tokenizers\\punkt.zip.\n"
     ]
    }
   ],
   "source": [
    "#Imports\n",
    "import pandas as pd\n",
    "import math\n",
    "import numpy as np\n",
    "import nltk\n",
    "#nltk.download('punkt')\n",
    "import json\n",
    "from collections import Counter, defaultdict"
   ]
  },
  {
   "cell_type": "code",
   "execution_count": 3,
   "metadata": {
    "scrolled": true
   },
   "outputs": [],
   "source": [
    "#Open JSON file\n",
    "jsonDataReviews = []\n",
    "with open('IMDB_reviews.json') as json_file:\n",
    "    for line in json_file:\n",
    "        jsonDataReviews.append(json.loads(line))\n",
    "\n",
    "#Read the data from the json file\n",
    "dataReviews = pd.DataFrame(jsonDataReviews)\n",
    "\n",
    "#Add Review_id column\n",
    "review_id = list(range(len(dataReviews)))\n",
    "dataReviews.insert(0,'review_id',review_id,True)\n",
    "dataReviews['review_summary'] = dataReviews['review_summary'].astype(str)\n",
    "dataReviews['review_text'] = dataReviews['review_text'].astype(str)"
   ]
  },
  {
   "cell_type": "code",
   "execution_count": 4,
   "metadata": {},
   "outputs": [
    {
     "data": {
      "text/html": [
       "<div>\n",
       "<style scoped>\n",
       "    .dataframe tbody tr th:only-of-type {\n",
       "        vertical-align: middle;\n",
       "    }\n",
       "\n",
       "    .dataframe tbody tr th {\n",
       "        vertical-align: top;\n",
       "    }\n",
       "\n",
       "    .dataframe thead th {\n",
       "        text-align: right;\n",
       "    }\n",
       "</style>\n",
       "<table border=\"1\" class=\"dataframe\">\n",
       "  <thead>\n",
       "    <tr style=\"text-align: right;\">\n",
       "      <th></th>\n",
       "      <th>review_id</th>\n",
       "      <th>is_spoiler</th>\n",
       "      <th>movie_id</th>\n",
       "      <th>rating</th>\n",
       "      <th>review_date</th>\n",
       "      <th>review_summary</th>\n",
       "      <th>review_text</th>\n",
       "      <th>user_id</th>\n",
       "    </tr>\n",
       "  </thead>\n",
       "  <tbody>\n",
       "    <tr>\n",
       "      <th>0</th>\n",
       "      <td>0</td>\n",
       "      <td>True</td>\n",
       "      <td>tt0111161</td>\n",
       "      <td>10</td>\n",
       "      <td>10 February 2006</td>\n",
       "      <td>A classic piece of unforgettable film-making.</td>\n",
       "      <td>In its Oscar year, Shawshank Redemption (writt...</td>\n",
       "      <td>ur1898687</td>\n",
       "    </tr>\n",
       "    <tr>\n",
       "      <th>1</th>\n",
       "      <td>1</td>\n",
       "      <td>True</td>\n",
       "      <td>tt0111161</td>\n",
       "      <td>10</td>\n",
       "      <td>6 September 2000</td>\n",
       "      <td>Simply amazing. The best film of the 90's.</td>\n",
       "      <td>The Shawshank Redemption is without a doubt on...</td>\n",
       "      <td>ur0842118</td>\n",
       "    </tr>\n",
       "    <tr>\n",
       "      <th>2</th>\n",
       "      <td>2</td>\n",
       "      <td>True</td>\n",
       "      <td>tt0111161</td>\n",
       "      <td>8</td>\n",
       "      <td>3 August 2001</td>\n",
       "      <td>The best story ever told on film</td>\n",
       "      <td>I believe that this film is the best story eve...</td>\n",
       "      <td>ur1285640</td>\n",
       "    </tr>\n",
       "    <tr>\n",
       "      <th>3</th>\n",
       "      <td>3</td>\n",
       "      <td>True</td>\n",
       "      <td>tt0111161</td>\n",
       "      <td>10</td>\n",
       "      <td>1 September 2002</td>\n",
       "      <td>Busy dying or busy living?</td>\n",
       "      <td>**Yes, there are SPOILERS here**This film has ...</td>\n",
       "      <td>ur1003471</td>\n",
       "    </tr>\n",
       "    <tr>\n",
       "      <th>4</th>\n",
       "      <td>4</td>\n",
       "      <td>True</td>\n",
       "      <td>tt0111161</td>\n",
       "      <td>8</td>\n",
       "      <td>20 May 2004</td>\n",
       "      <td>Great story, wondrously told and acted</td>\n",
       "      <td>At the heart of this extraordinary movie is a ...</td>\n",
       "      <td>ur0226855</td>\n",
       "    </tr>\n",
       "    <tr>\n",
       "      <th>5</th>\n",
       "      <td>5</td>\n",
       "      <td>True</td>\n",
       "      <td>tt0111161</td>\n",
       "      <td>8</td>\n",
       "      <td>12 August 2004</td>\n",
       "      <td>Good , But It Is Overrated By Some</td>\n",
       "      <td>In recent years the IMDB top 250 movies has ha...</td>\n",
       "      <td>ur1532177</td>\n",
       "    </tr>\n",
       "    <tr>\n",
       "      <th>6</th>\n",
       "      <td>6</td>\n",
       "      <td>True</td>\n",
       "      <td>tt0111161</td>\n",
       "      <td>9</td>\n",
       "      <td>9 October 2005</td>\n",
       "      <td>This Movie Saved My Life.</td>\n",
       "      <td>I have been a fan of this movie for a long tim...</td>\n",
       "      <td>ur6574726</td>\n",
       "    </tr>\n",
       "    <tr>\n",
       "      <th>7</th>\n",
       "      <td>7</td>\n",
       "      <td>True</td>\n",
       "      <td>tt0111161</td>\n",
       "      <td>10</td>\n",
       "      <td>4 February 2012</td>\n",
       "      <td>Movie you can see 1000 times</td>\n",
       "      <td>I made my account on IMDb Just to Rate this mo...</td>\n",
       "      <td>ur31182745</td>\n",
       "    </tr>\n",
       "    <tr>\n",
       "      <th>8</th>\n",
       "      <td>8</td>\n",
       "      <td>True</td>\n",
       "      <td>tt0111161</td>\n",
       "      <td>10</td>\n",
       "      <td>24 October 2008</td>\n",
       "      <td>The Shawshank Redemption</td>\n",
       "      <td>A friend of mine listed \"The Shawshank Redempt...</td>\n",
       "      <td>ur9871443</td>\n",
       "    </tr>\n",
       "    <tr>\n",
       "      <th>9</th>\n",
       "      <td>9</td>\n",
       "      <td>True</td>\n",
       "      <td>tt0111161</td>\n",
       "      <td>10</td>\n",
       "      <td>30 July 2011</td>\n",
       "      <td>\"I'm a convicted murderer who provides sound f...</td>\n",
       "      <td>Well I guess I'm a little late to the party as...</td>\n",
       "      <td>ur2707735</td>\n",
       "    </tr>\n",
       "  </tbody>\n",
       "</table>\n",
       "</div>"
      ],
      "text/plain": [
       "   review_id  is_spoiler   movie_id rating       review_date  \\\n",
       "0          0        True  tt0111161     10  10 February 2006   \n",
       "1          1        True  tt0111161     10  6 September 2000   \n",
       "2          2        True  tt0111161      8     3 August 2001   \n",
       "3          3        True  tt0111161     10  1 September 2002   \n",
       "4          4        True  tt0111161      8       20 May 2004   \n",
       "5          5        True  tt0111161      8    12 August 2004   \n",
       "6          6        True  tt0111161      9    9 October 2005   \n",
       "7          7        True  tt0111161     10   4 February 2012   \n",
       "8          8        True  tt0111161     10   24 October 2008   \n",
       "9          9        True  tt0111161     10      30 July 2011   \n",
       "\n",
       "                                      review_summary  \\\n",
       "0      A classic piece of unforgettable film-making.   \n",
       "1         Simply amazing. The best film of the 90's.   \n",
       "2                   The best story ever told on film   \n",
       "3                         Busy dying or busy living?   \n",
       "4             Great story, wondrously told and acted   \n",
       "5                 Good , But It Is Overrated By Some   \n",
       "6                          This Movie Saved My Life.   \n",
       "7                       Movie you can see 1000 times   \n",
       "8                           The Shawshank Redemption   \n",
       "9  \"I'm a convicted murderer who provides sound f...   \n",
       "\n",
       "                                         review_text     user_id  \n",
       "0  In its Oscar year, Shawshank Redemption (writt...   ur1898687  \n",
       "1  The Shawshank Redemption is without a doubt on...   ur0842118  \n",
       "2  I believe that this film is the best story eve...   ur1285640  \n",
       "3  **Yes, there are SPOILERS here**This film has ...   ur1003471  \n",
       "4  At the heart of this extraordinary movie is a ...   ur0226855  \n",
       "5  In recent years the IMDB top 250 movies has ha...   ur1532177  \n",
       "6  I have been a fan of this movie for a long tim...   ur6574726  \n",
       "7  I made my account on IMDb Just to Rate this mo...  ur31182745  \n",
       "8  A friend of mine listed \"The Shawshank Redempt...   ur9871443  \n",
       "9  Well I guess I'm a little late to the party as...   ur2707735  "
      ]
     },
     "execution_count": 4,
     "metadata": {},
     "output_type": "execute_result"
    }
   ],
   "source": [
    "dataReviews.head(10)"
   ]
  },
  {
   "cell_type": "markdown",
   "metadata": {},
   "source": [
    "# Create the TF Dict"
   ]
  },
  {
   "cell_type": "code",
   "execution_count": null,
   "metadata": {},
   "outputs": [],
   "source": [
    "#Init a default dict\n",
    "tfDict = defaultdict(lambda: defaultdict(int))\n",
    "\n",
    "#Init Porter Stemmer\n",
    "ps = nltk.stem.PorterStemmer()\n",
    "\n",
    "#Use less reviews to reduce runtimes for testing/practice\n",
    "dataReviewsLess = pd.DataFrame(dataReviews.head(10000))\n",
    "\n",
    "#Retrieve the actual reviews\n",
    "reviewTexts = dataReviewsLess['review_text'].values\n",
    "\n",
    "#Loop through reviews\n",
    "for i in range(len(reviewTexts)):\n",
    "    #Tokenize reviews and lowercase the text\n",
    "    line = nltk.word_tokenize(reviewTexts[i].lower())\n",
    "    #Loop through tokens in review\n",
    "    for word in line:\n",
    "        #Stem token\n",
    "        stem = ps.stem(word)\n",
    "        #Increment frequency\n",
    "        tfDict[stem][i] += 1\n",
    "\n",
    "#Add in Corpus Frequency and Document Frequency\n",
    "tfDictXtra = defaultdict(lambda: defaultdict(int))\n",
    "for word in tfDict:\n",
    "    tfDictXtra[word]['CorpusFreq'] = sum(tfDict[word].values())\n",
    "    tfDictXtra[word]['DocFreq'] = len(tfDict[word])\n",
    "    tfDictXtra[word]['Freq_per_doc'] = tfDict[word]\n",
    "\n",
    "tfDictXtra['in']"
   ]
  },
  {
   "cell_type": "markdown",
   "metadata": {},
   "source": [
    "# Create the TF-IDF"
   ]
  },
  {
   "cell_type": "code",
   "execution_count": null,
   "metadata": {},
   "outputs": [],
   "source": []
  },
  {
   "cell_type": "markdown",
   "metadata": {},
   "source": [
    "# Input query"
   ]
  },
  {
   "cell_type": "code",
   "execution_count": null,
   "metadata": {},
   "outputs": [],
   "source": []
  },
  {
   "cell_type": "markdown",
   "metadata": {},
   "source": [
    "# Results"
   ]
  },
  {
   "cell_type": "code",
   "execution_count": null,
   "metadata": {},
   "outputs": [],
   "source": []
  }
 ],
 "metadata": {
  "kernelspec": {
   "display_name": "Python 3",
   "language": "python",
   "name": "python3"
  },
  "language_info": {
   "codemirror_mode": {
    "name": "ipython",
    "version": 3
   },
   "file_extension": ".py",
   "mimetype": "text/x-python",
   "name": "python",
   "nbconvert_exporter": "python",
   "pygments_lexer": "ipython3",
   "version": "3.6.5"
  }
 },
 "nbformat": 4,
 "nbformat_minor": 2
}
