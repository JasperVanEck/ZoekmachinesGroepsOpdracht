{
 "cells": [
  {
   "cell_type": "markdown",
   "metadata": {},
   "source": [
    "# Groep Opdracht Week 4 Zoekmachines\n",
    "\n",
    "## Students: Jasper van Eck, Ghislaine, Joris Galema, Lotte\n",
    "## Student IDs: 6228194, -, 11335165, 11269642\n"
   ]
  },
  {
   "cell_type": "markdown",
   "metadata": {},
   "source": [
    "# Import Data"
   ]
  },
  {
   "cell_type": "code",
   "execution_count": 3,
   "metadata": {},
   "outputs": [],
   "source": [
    "#Imports\n",
    "import pandas as pd\n",
    "import math\n",
    "import numpy as np\n",
    "import nltk\n",
    "import json\n",
    "from collections import Counter, defaultdict"
   ]
  },
  {
   "cell_type": "code",
   "execution_count": 10,
   "metadata": {},
   "outputs": [],
   "source": [
    "#Open JSON file\n",
    "jsonDataReviews = []\n",
    "with open('IMDB_reviews.json') as json_file:\n",
    "    for line in json_file:\n",
    "        jsonDataReviews.append(json.loads(line))\n",
    "\n",
    "#Read the data from the json file\n",
    "dataReviews = pd.DataFrame(jsonDataReviews)"
   ]
  },
  {
   "cell_type": "code",
   "execution_count": null,
   "metadata": {},
   "outputs": [],
   "source": []
  }
 ],
 "metadata": {
  "kernelspec": {
   "display_name": "Python 3",
   "language": "python",
   "name": "python3"
  },
  "language_info": {
   "codemirror_mode": {
    "name": "ipython",
    "version": 3
   },
   "file_extension": ".py",
   "mimetype": "text/x-python",
   "name": "python",
   "nbconvert_exporter": "python",
   "pygments_lexer": "ipython3",
   "version": "3.6.5"
  }
 },
 "nbformat": 4,
 "nbformat_minor": 2
}
